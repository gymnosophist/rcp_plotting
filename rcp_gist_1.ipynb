{
 "cells": [
  {
   "cell_type": "markdown",
   "metadata": {},
   "source": [
    "### Get RCP Data"
   ]
  },
  {
   "cell_type": "code",
   "execution_count": 26,
   "metadata": {},
   "outputs": [
    {
     "data": {
      "text/plain": [
       "{'url': 'https://www.realclearpolitics.com/epolls/2020/president/nh/new_hampshire_trump_vs_biden-6779.html',\n",
       " 'title': 'New Hampshire: Trump vs. Biden',\n",
       " 'poll': 'St. Anselm'}"
      ]
     },
     "execution_count": 26,
     "metadata": {},
     "output_type": "execute_result"
    }
   ],
   "source": [
    "polls = rcp.get_polls(candidate = 'Biden')\n",
    "polls[0] # see what's there"
   ]
  },
  {
   "cell_type": "code",
   "execution_count": null,
   "metadata": {},
   "outputs": [],
   "source": [
    "d = {} # make results readable\n",
    "for poll in polls: \n",
    "    if poll['title'] not in d: \n",
    "        d[poll['title']] = poll['url']"
   ]
  },
  {
   "cell_type": "code",
   "execution_count": 35,
   "metadata": {},
   "outputs": [
    {
     "data": {
      "text/plain": [
       "{'New Hampshire: Trump vs. Biden': 'https://www.realclearpolitics.com/epolls/2020/president/nh/new_hampshire_trump_vs_biden-6779.html',\n",
       " 'General Election: Trump vs. Biden': 'https://www.realclearpolitics.com/epolls/2020/president/us/general_election_trump_vs_biden-6247.html',\n",
       " 'Texas: Trump vs. Biden': 'https://www.realclearpolitics.com/epolls/2020/president/tx/texas_trump_vs_biden-6818.html',\n",
       " 'North Carolina: Trump vs. Biden': 'https://www.realclearpolitics.com/epolls/2020/president/nc/north_carolina_trump_vs_biden-6744.html',\n",
       " 'Utah: Trump vs. Biden': 'https://www.realclearpolitics.com/epolls/2020/president/ut/utah_trump_vs_biden-7195.html',\n",
       " 'New York: Trump vs. Biden': 'https://www.realclearpolitics.com/epolls/2020/president/ny/new_york_trump_vs_biden-7040.html',\n",
       " 'Florida: Trump vs. Biden': 'https://www.realclearpolitics.com/epolls/2020/president/fl/florida_trump_vs_biden-6841.html',\n",
       " 'Pennsylvania: Trump vs. Biden': 'https://www.realclearpolitics.com/epolls/2020/president/pa/pennsylvania_trump_vs_biden-6861.html',\n",
       " 'New Jersey: Trump vs. Biden': 'https://www.realclearpolitics.com/epolls/2020/president/nj/new_jersey_trump_vs_biden-7193.html',\n",
       " 'Michigan: Trump vs. Biden': 'https://www.realclearpolitics.com/epolls/2020/president/mi/michigan_trump_vs_biden-6761.html',\n",
       " 'Indiana: Trump vs. Biden': 'https://www.realclearpolitics.com/epolls/2020/president/in/indiana_trump_vs_biden-7189.html',\n",
       " 'Arizona: Trump vs. Biden': 'https://www.realclearpolitics.com/epolls/2020/president/az/arizona_trump_vs_biden-6807.html',\n",
       " 'Virginia: Trump vs. Biden': 'https://www.realclearpolitics.com/epolls/2020/president/va/virginia_trump_vs_biden-6988.html',\n",
       " 'Connecticut: Trump vs. Biden': 'https://www.realclearpolitics.com/epolls/2020/president/ct/connecticut_trump_vs_biden-6999.html',\n",
       " 'Wisconsin: Trump vs. Biden': 'https://www.realclearpolitics.com/epolls/2020/president/wi/wisconsin_trump_vs_biden-6849.html'}"
      ]
     },
     "execution_count": 35,
     "metadata": {},
     "output_type": "execute_result"
    }
   ],
   "source": [
    "d"
   ]
  },
  {
   "cell_type": "code",
   "execution_count": 37,
   "metadata": {},
   "outputs": [],
   "source": [
    "url = d['General Election: Trump vs. Biden']"
   ]
  },
  {
   "cell_type": "code",
   "execution_count": 39,
   "metadata": {},
   "outputs": [],
   "source": [
    "res = rcp.get_poll_data(url)"
   ]
  }
 ],
 "metadata": {
  "kernelspec": {
   "display_name": "Python 3",
   "language": "python",
   "name": "python3"
  },
  "language_info": {
   "codemirror_mode": {
    "name": "ipython",
    "version": 3
   },
   "file_extension": ".py",
   "mimetype": "text/x-python",
   "name": "python",
   "nbconvert_exporter": "python",
   "pygments_lexer": "ipython3",
   "version": "3.7.3"
  }
 },
 "nbformat": 4,
 "nbformat_minor": 2
}
